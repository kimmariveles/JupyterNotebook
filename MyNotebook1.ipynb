{
  "metadata": {
    "language_info": {
      "codemirror_mode": {
        "name": "python",
        "version": 3
      },
      "file_extension": ".py",
      "mimetype": "text/x-python",
      "name": "python",
      "nbconvert_exporter": "python",
      "pygments_lexer": "ipython3",
      "version": "3.8"
    },
    "kernelspec": {
      "name": "python",
      "display_name": "Pyolite",
      "language": "python"
    }
  },
  "nbformat_minor": 4,
  "nbformat": 4,
  "cells": [
    {
      "cell_type": "markdown",
      "source": "# My Jupyter Notebook on IBM Watson Studio",
      "metadata": {}
    },
    {
      "cell_type": "markdown",
      "source": "**Karina Isabelle Mariveles** <br> Student",
      "metadata": {}
    },
    {
      "cell_type": "markdown",
      "source": "*Data science is interersting for me because I have always been fascinated with numbers. In data science, we will go deeper into the story that the numbers tell which for me is a very interesting topic.*",
      "metadata": {}
    },
    {
      "cell_type": "markdown",
      "source": "### Normal Temperature in Celsius",
      "metadata": {}
    },
    {
      "cell_type": "code",
      "source": "c = (5*(98.6-32))/9\nprint(c , 'degC')",
      "metadata": {
        "trusted": true
      },
      "execution_count": 10,
      "outputs": [
        {
          "name": "stdout",
          "text": "37.0 degC\n",
          "output_type": "stream"
        }
      ]
    },
    {
      "cell_type": "markdown",
      "source": "[IBM Cloud Gallery](https://dataplatform.cloud.ibm.com/gallery) <br>\n<ol>\nGrocery List\n<li>Eggs</li>\n<li>Milk</li>\n<li>Ice cream</li>\n\n<ul>\nTodo List\n<li>Finish homework</li>\n<li>Pick up laundry</li>\n<li>Go to piano class</li>\n</ul>",
      "metadata": {}
    },
    {
      "cell_type": "markdown",
      "source": "",
      "metadata": {}
    },
    {
      "cell_type": "code",
      "source": "",
      "metadata": {},
      "execution_count": null,
      "outputs": []
    }
  ]
}
